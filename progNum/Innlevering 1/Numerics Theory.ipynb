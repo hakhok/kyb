{
 "cells": [
  {
   "cell_type": "markdown",
   "metadata": {
    "deletable": false,
    "editable": false,
    "hide_input": true,
    "run_control": {
     "frozen": true
    }
   },
   "source": [
    "# Theory - Numerics exercise 1"
   ]
  },
  {
   "cell_type": "markdown",
   "metadata": {
    "deletable": false,
    "editable": false,
    "heading_collapsed": true,
    "run_control": {
     "frozen": true
    }
   },
   "source": [
    "#### Using floating point numbers in Python (click the arrow to the left to expand)"
   ]
  },
  {
   "cell_type": "markdown",
   "metadata": {
    "deletable": false,
    "editable": false,
    "hidden": true
   },
   "source": [
    "Computers represent numbers, in base 2, as bits. They have a finite amount of bits available, and to keep the number representations equal across programming languages and platforms, standards are made for how a computer is to store numbers internally. To represent decimal numbers, Python uses double precision floating point numbers (doubles). Doubles consist of 8 bytes, i.e. 64 bits $b_0,b_1,...,b_{63}$ that each can take the values 0 or 1. They are used to represent a decimal number $a$ on the form\n",
    "$$\\mathrm{fl}(a) = (-1)^{b_{0}}*2^{e-1023}*1.b_{1}b_{2}b_{3}....b_{52}.$$\n",
    "<br>\n",
    "Here, the exponent is given as $e = b_{53}b_{54}b_{55}b_{56}b_{57}b_{58}b_{59}b_{60}b_{61}b_{62}b_{63},$ a base 2 integer. Note that $e = 00000000000$ and $e=1111111111$ are interpreted as $0$ and $\\infty$ respectively, so e takes values between 1 and 2046. The mantissa $1.b_{1}b_{2}b_{3}....b_{52}$ is a real number in base 2 with values between 1 and 2:\n",
    "$$ 1.b_{1}b_{2}b_{3}....b_{52} = 1 + \\sum_{j = 1}^{52}b_{j}2^{-j}. $$\n",
    "Since this is a finite sum, we have a finite amount of numbers at our disposal. This means we cannot represent all of the infinitely many real numbers *exactly* as doubles. We can, however, guarantee a certain *precision*.\n",
    "<br><br>\n",
    "An example of a number that can be exactly represented on this format is 1.25. It is represented as \n",
    "<br>\n",
    "$$b_{1} \\quad b_{53}b_{54}b_{55}b_{56}b_{57}b_{58}b_{59}b_{60}b_{61}b_{62}b_{63} \\quad b_{1}b_{2}b_{3}...b_{52}\n",
    "\\quad$$\n",
    "$$= \\quad 0 \\quad 0 1 1 1 1 1 1 1 1 1 1 \\quad 010000000000000000000000000000000000000000000000000.$$\n",
    "<br><br>\n",
    "An example of a number that cannot be exactly represented on this format is 9.4. It is represented as\n",
    "$$b_{1} \\quad b_{53}b_{54}b_{55}b_{56}b_{57}b_{58}b_{59}b_{60}b_{61}b_{62}b_{63} \\quad b_{1}b_{2}b_{3}...b_{52}\n",
    "\\quad$$\n",
    "$$= \\quad 0 \\quad 1 0 0 0 0 0 0 0 0 1 0 \\quad 0010110011001100110011001100110011001100110011001100.$$\n",
    "<br>\n",
    "If you check closely, you will find that $fl(9.4) = 9.4 + 2^{-49} - 0.4 * 2^{-48} = 9.4 + (1-0.8) * 2^{-49} = 9.4 + 0.2 * 2^{-49}$, i.e. there is an error of $ 0.2 * 2^{-49}$.\n",
    "\n",
    "<br> <br>\n",
    "In general, one can show that for a floating point number the relative truncation error and the absolute truncation error are given by, respectively,\n",
    "$$\\frac{|\\mathrm{fl}(a) - a|}{|a|} \\leq \\epsilon_{mach} \\qquad \\mathrm{ and } \\qquad |\\mathrm{fl}(a) - a| \\leq |a|\\epsilon_{mach}$$\n",
    "where the *machine epsilon* $\\epsilon_{mach}$,  is the smallest unit of precision in the mantissa. For doubles, machine epsilon is $2^{-52} = 2.22*10^{-16}$ since the last decimal spot in the mantissa is $b_{51}$, corresponding to the value $2^{-51}£. For other floating point standard, other precisions apply. If you are interested, you can read more about this [here](https://en.wikipedia.org/wiki/Floating-point_arithmetic)."
   ]
  },
  {
   "cell_type": "markdown",
   "metadata": {
    "deletable": false,
    "editable": false,
    "run_control": {
     "frozen": true
    }
   },
   "source": [
    "#### a) How many bits of computer memory are used when storing a double?"
   ]
  },
  {
   "cell_type": "markdown",
   "metadata": {},
   "source": [
    "64"
   ]
  },
  {
   "cell_type": "markdown",
   "metadata": {
    "deletable": false,
    "editable": false,
    "run_control": {
     "frozen": true
    }
   },
   "source": [
    "#### b) How are these bits distributed among sign, exponent and significand?"
   ]
  },
  {
   "cell_type": "markdown",
   "metadata": {},
   "source": [
    "In a double, there is 1 sign, 8 exponent.\n",
    "The number 11.11 can also be stored with 1111 as the significand, and 10^-2 as the power term."
   ]
  },
  {
   "cell_type": "markdown",
   "metadata": {
    "deletable": false,
    "editable": false,
    "run_control": {
     "frozen": true
    }
   },
   "source": [
    "#### c) What are, in absolute value, the largest and smallest numbers representable as doubles?"
   ]
  },
  {
   "cell_type": "markdown",
   "metadata": {},
   "source": [
    "1.79769*10^308 \n"
   ]
  },
  {
   "cell_type": "markdown",
   "metadata": {
    "deletable": false,
    "editable": false,
    "run_control": {
     "frozen": true
    }
   },
   "source": [
    "#### d) Convert the below numbers to doubles, fl(a), and comment for each of them whether it is an exact representation or not. \n",
    "You do not need to find more than the first eight bits of the significand. You are allowed to use an online \"double converter\" if you like.\n",
    "- 0.25\n",
    "- 4.5\n",
    "- 0.1"
   ]
  },
  {
   "cell_type": "markdown",
   "metadata": {},
   "source": [
    "0.25 = 0 01111111101 0000000000000000000000000000000000000000000000000000\n",
    "exact\n",
    "\n",
    "4.5  = 0 10000000001 0010000000000000000000000000000000000000000000000000\n",
    "exact\n",
    "\n",
    "0.1  = 0 01111111011 1001100110011001100110011001100110011001100110011010\n",
    "error: 1.490116119384765625E-9"
   ]
  },
  {
   "cell_type": "markdown",
   "metadata": {
    "deletable": false,
    "editable": false,
    "run_control": {
     "frozen": true
    }
   },
   "source": [
    "#### e) Find the absolute round-off error of the numbers below when represented as a double.\n",
    "\n",
    "- 3.1415\n",
    "- 6.022140857*10^23\n",
    "- 0.8*10^(-10)"
   ]
  },
  {
   "cell_type": "markdown",
   "metadata": {},
   "source": [
    "3.1415:           -3.814697265625E-9\n",
    "6.022140857*10^23: 14683781913362432\n",
    "0.8*10^(-10)      -3.196642239799984963610768318E-19"
   ]
  }
 ],
 "metadata": {
  "kernelspec": {
   "display_name": "Python 3 (ipykernel)",
   "language": "python",
   "name": "python3"
  },
  "language_info": {
   "codemirror_mode": {
    "name": "ipython",
    "version": 3
   },
   "file_extension": ".py",
   "mimetype": "text/x-python",
   "name": "python",
   "nbconvert_exporter": "python",
   "pygments_lexer": "ipython3",
   "version": "3.9.7"
  }
 },
 "nbformat": 4,
 "nbformat_minor": 2
}
