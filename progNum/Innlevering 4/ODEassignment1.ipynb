{
 "cells": [
  {
   "cell_type": "markdown",
   "metadata": {
    "deletable": false,
    "editable": false,
    "run_control": {
     "frozen": true
    }
   },
   "source": [
    "[Back to Assignment 5](_Oving5.ipynb)\n",
    "# Solving ODEs and plotting\n",
    "\n",
    "In this asignment you will be using a numerical method to solve ODEs of the form \n",
    "$$\\dot{y} = f(y)$$ \n",
    "You will also learn how to do some basic plotting with $\\texttt{matplotlib.pyplot}$ \n",
    "\n",
    "## 1 Forward Euler method\n",
    "The forward Euler method is \n",
    "$$y_{n+1} = y_n + \\Delta t f(y_n),$$\n",
    "\n",
    "where $y_n$ is the numerical approximation to exact solution $y(t_n)$ at time $t_n = n \\Delta t$, and $\\Delta t<<1$ is a small time step. \n",
    "\n",
    "\n",
    "First, let's consider the ODE\n",
    "$$\\dot{y} = - \\lambda y$$\n",
    "where $\\lambda$ is a positive constant. The following code can be used to solve the above ODE using the forward Euler method. At each time-step, the code prints what time we are at $t_n$ and the value of the solution at that time $y_n$. "
   ]
  },
  {
   "cell_type": "code",
   "execution_count": 3,
   "metadata": {},
   "outputs": [
    {
     "data": {
      "image/png": "[encoded data removed]",
      "text/plain": [
       "<Figure size 432x288 with 1 Axes>"
      ]
     },
     "metadata": {
      "needs_background": "light"
     },
     "output_type": "display_data"
    }
   ],
   "source": [
    "# This is where you write the code for task 1a) and 1b)\n",
    "import matplotlib.pyplot as plt\n",
    "\n",
    "lam = 2           # lambda\n",
    "dt  = 0.005       # time step\n",
    "T   = 2         # total integration time \n",
    "nt  = round(T/dt) # total number of time steps\n",
    "y   = 1           # initial conditions \n",
    "\n",
    "def f(y): return -lam*y\n",
    "\n",
    "for it in range(0,nt):\n",
    "    y = y + dt*f(y) # (1a) Your function should go here! \n",
    "    plt.plot(it*dt,y, 'bs')\n",
    "plt.show()    \n"
   ]
  },
  {
   "cell_type": "markdown",
   "metadata": {
    "deletable": false,
    "editable": false,
    "run_control": {
     "frozen": true
    }
   },
   "source": [
    "\n",
    "## a) \n",
    "The above code is specifically written for the ODE $\\dot{y} = f(y)$, where $f(y) = -\\lambda y$. Your first task is to re-write the above code using a function for $f(y)$. That is, write a function that takes the value $y_n$ and returns $-\\lambda y_n$ and incorporate it into the above code. (There are hints in the code!)"
   ]
  },
  {
   "cell_type": "markdown",
   "metadata": {
    "deletable": false,
    "editable": false,
    "run_control": {
     "frozen": true
    }
   },
   "source": [
    "## b)"
   ]
  },
  {
   "cell_type": "markdown",
   "metadata": {
    "deletable": false,
    "editable": false,
    "run_control": {
     "frozen": true
    }
   },
   "source": [
    "The above code prints the values for $t_n$ and $y_n$ at each time step. While printing is an acceptable way to see what your code is doing, an even better way is to visualise the solution using a plot. The following code plots the points $(t,t^2)$ for $t = 1,2,3,4,5$. Replace the print statement in the above code with some code that plots the points $(t_n,y_n)$. "
   ]
  },
  {
   "cell_type": "code",
   "execution_count": 16,
   "metadata": {},
   "outputs": [
    {
     "data": {
      "image/png": "[encoded data removed]",
      "text/plain": [
       "<Figure size 432x288 with 1 Axes>"
      ]
     },
     "metadata": {
      "needs_background": "light"
     },
     "output_type": "display_data"
    }
   ],
   "source": [
    "import matplotlib.pyplot as plt\n",
    "for i in [1,2,3,4,5]:\n",
    "    plt.plot(i,i**2,'gs') #  Note that the 'gs' here specifies is the marker type, i.e., a green square. You can try other marker types such as 'rx', 'bs' etc. "
   ]
  },
  {
   "cell_type": "markdown",
   "metadata": {
    "deletable": false,
    "editable": false,
    "run_control": {
     "frozen": true
    }
   },
   "source": [
    "## c)  \n",
    "Use the forward Euler method to solve the following ODE and plot the solution. $$\\dot{y} = (y-3)(y+1)$$ Plot the solution over the time interval $t\\in[0,2]$ using the initial conditions $y_0 = 2$ and with a time step of $\\Delta t = 0.05$. What value does the solution converge to? "
   ]
  },
  {
   "cell_type": "code",
   "execution_count": 4,
   "metadata": {},
   "outputs": [
    {
     "name": "stdout",
     "output_type": "stream",
     "text": [
      "Converges to -1.0\n"
     ]
    },
    {
     "data": {
      "image/png": "[encoded data removed]",
      "text/plain": [
       "<Figure size 432x288 with 1 Axes>"
      ]
     },
     "metadata": {
      "needs_background": "light"
     },
     "output_type": "display_data"
    }
   ],
   "source": [
    "# This is where you write the code for task 1a) and 1b)\n",
    "import matplotlib.pyplot as plt\n",
    "\n",
    "dt  = 0.05        # time step\n",
    "T   = 2         # total integration time \n",
    "nt  = round(T/dt) # total number of time steps\n",
    "y   = 2          # initial conditions \n",
    "\n",
    "def f(y): return dt*(y-3)*(y+1)\n",
    "\n",
    "for it in range(0,nt):\n",
    "    y = y + f(y) # (1a) Your function should go here! \n",
    "    plt.plot(it*dt,y, 'bs')\n",
    "print(f\"Converges to {round(y, 2)}\")\n",
    "plt.show()   "
   ]
  },
  {
   "cell_type": "markdown",
   "metadata": {
    "deletable": false,
    "editable": false,
    "run_control": {
     "frozen": true
    }
   },
   "source": [
    "# 2 Backward Euler method\n",
    "In this exercise we will use the backward Euler method to solve ODEs. Recall that the backward Euler method is \n",
    "$$y_{n+1} = y_n + \\Delta t f(y_{n+1})$$\n",
    "and hence $y_{n+1}$ can be found by solving for the root of the non-linear implicit algebraic equation $$g(y_{n+1}) := y_n + \\Delta t f(y_{n+1}) - y_{n+1} = 0$$\n",
    "You can solve for $y_{n+1}$ using Newton's method, which is what we will do. \n",
    "Additionally, the derivative of $g(y_{n+1})$ is given by \n",
    "$$g'(y_{n+1}) = \\frac{\\mathrm{d} g(y_{n+1})}{\\mathrm{d} y_{n+1}} = \\Delta t \\frac{\\mathrm{d} f(y_{n+1})}{\\mathrm{d} y_{n+1}} -1$$\n",
    "\n",
    "\n",
    "The following code uses the backward Euler method to solve the ODE$$\\dot{y} = - \\lambda y.$$ In the following questions, you will modify this code to solve the ODE $$\\dot{y} = (y-3)(y+1).$$"
   ]
  },
  {
   "cell_type": "code",
   "execution_count": 8,
   "metadata": {},
   "outputs": [
    {
     "data": {
      "image/png": "[encoded data removed]",
      "text/plain": [
       "<Figure size 432x288 with 1 Axes>"
      ]
     },
     "metadata": {
      "needs_background": "light"
     },
     "output_type": "display_data"
    }
   ],
   "source": [
    "from matplotlib import pyplot as plt\n",
    "import numpy\n",
    "\n",
    "def newton(y,g,dg):\n",
    "    # use Newton iterations to solve the scalar function g(y) = 0\n",
    "    # INPUT: \n",
    "    # y  - initial guess (float)\n",
    "    # g  - function we are solving (function)\n",
    "    # dg - derivative of the function g (function)\n",
    "    # OUTPUT:\n",
    "    # y - the solution to g(y) = 0 to within tol\n",
    "    # if the Newton iterations do not converge then it will print an error message and return nan (not a number)\n",
    "    \n",
    "    k = 0 \n",
    "    kmax = 100    # max iterations\n",
    "    tol = 1e-10   # tolerance\n",
    "    \n",
    "    while abs(g(y))>tol and k<kmax:\n",
    "        if abs(dg(y))>1e-14:       # if dg(y) is not zero \n",
    "            y = y - g(y)/dg(y)     # Newton iteration \n",
    "            k = k + 1\n",
    "        elif abs(dg(y))<1e-14:     # if dg(y) is nearly zero\n",
    "            k = kmax               # exit loop\n",
    "        \n",
    "    if k == kmax and abs(g(y))>tol: \n",
    "        print('Warning! Newton iterations did not converge :(')\n",
    "        return numpy.nan\n",
    "    else:\n",
    "        return y\n",
    "\n",
    "lam = 2.0           # lambda\n",
    "dt  = 0.05        # time step\n",
    "T   = 1.0        # total integration time \n",
    "nt  = round(T/dt) # total number of time steps\n",
    "y   = 2.0           # initial conditions \n",
    "\n",
    "# (2a) write functions for f, g, df, and dg here \n",
    "def f(y): return (y-3)*(y+1)\n",
    "def g(y, y_next): return y + dt*f(y_next) - y_next\n",
    "def f_dt(y): return 2*y - 2\n",
    "def g_dt(y_next): return dt*f_dt(y_next) - 1\n",
    "\n",
    "for it in range(0,nt):\n",
    "    y_next = y - (f(y)/f_dt(y))\n",
    "    y = y_next\n",
    "    plt.plot(it*dt,y, 'bs')\n"
   ]
  },
  {
   "cell_type": "markdown",
   "metadata": {
    "deletable": false,
    "editable": false,
    "run_control": {
     "frozen": true
    }
   },
   "source": [
    "# a) \n",
    "Write functions for $f(y)$, $f'(y)$, $g(y_{n+1})$, $g'(y_{n+1})$. Note that $g'(y_{n+1})$ also needs the derivative of $f(y_{n+1})$, which is $f'(y_{n+1}) = (y_{n+1}-3)+(y_{n+1}+1)$."
   ]
  },
  {
   "cell_type": "markdown",
   "metadata": {
    "deletable": false,
    "editable": false,
    "run_control": {
     "frozen": true
    }
   },
   "source": [
    "## b)\n",
    "Using the backward Euler method with Newton iterations, plot the solution for the initial conditions $y_0 = 2$ and with a time step of $\\Delta t = 0.05$.  "
   ]
  },
  {
   "cell_type": "markdown",
   "metadata": {
    "deletable": false,
    "editable": false,
    "run_control": {
     "frozen": true
    }
   },
   "source": [
    "Hint: The following code uses Newton iterations to find a root of a function $g(y)$."
   ]
  },
  {
   "cell_type": "code",
   "execution_count": 1,
   "metadata": {
    "deletable": false,
    "editable": false
   },
   "outputs": [],
   "source": [
    "import numpy\n",
    "\n",
    "def newton(y,g,dg):\n",
    "    # use Newton iterations to solve the scalar function g(y) = 0\n",
    "    # INPUT: \n",
    "    # y  - initial guess (float)\n",
    "    # g  - function we are solving (function)\n",
    "    # dg - derivative of the function g (function)\n",
    "    # OUTPUT:\n",
    "    # y - the solution to g(y) = 0 to within tol\n",
    "    # if the Newton iterations do not converge then it will print an error message and return nan (not a number)\n",
    "    \n",
    "    k = 0 \n",
    "    kmax = 100    # max iterations\n",
    "    tol = 1e-10   # tolerance\n",
    "    \n",
    "    while abs(g(y))>tol and k<kmax:\n",
    "        if abs(dg(y))>1e-14:       # if dg(y) is not zero \n",
    "            y = y - g(y)/dg(y)     # Newton iteration \n",
    "            k = k + 1\n",
    "        elif abs(dg(y))<1e-14:     # if dg(y) is nearly zero\n",
    "            k = kmax               # exit loop\n",
    "        \n",
    "    if k == kmax and abs(g(y))>tol: \n",
    "        print('Warning! Newton iterations did not converge :(')\n",
    "        return numpy.nan\n",
    "    else:\n",
    "        return y\n"
   ]
  },
  {
   "cell_type": "code",
   "execution_count": 2,
   "metadata": {
    "deletable": false,
    "editable": false
   },
   "outputs": [
    {
     "name": "stdout",
     "output_type": "stream",
     "text": [
      "root1 = 2.00\n",
      "root2 = -5.00\n",
      "Warning! Newton iterations did not converge :(\n",
      "root3 = nan\n",
      "\n",
      "note that we converged to different roots based on the initial guess!\n"
     ]
    }
   ],
   "source": [
    "# Example of use:\n",
    "def g(y): # some function that we want to find the root of\n",
    "    return (y-2)*(y+5)\n",
    "def dg(y): # the derivative of g(y)\n",
    "    return (y-2)+(y+5)\n",
    "\n",
    "y1 = 4 # intial guesses\n",
    "y2 = -3\n",
    "y3 = -3/2 # Note: dg(y3) = 0 so Newton iterations won't converge for this initial guess\n",
    "\n",
    "root1 = newton(y1,g,dg)\n",
    "print(\"root1 = %.2f\" % root1)\n",
    "\n",
    "root2 = newton(y2,g,dg)\n",
    "print(\"root2 = %.2f\" % root2)\n",
    "\n",
    "root3 = newton(y3,g,dg)\n",
    "print(\"root3 = %.2f\\n\\nnote that we converged to different roots based on the initial guess!\" % root3)  "
   ]
  },
  {
   "cell_type": "markdown",
   "metadata": {
    "deletable": false,
    "editable": false,
    "run_control": {
     "frozen": true
    }
   },
   "source": [
    "## c)\n",
    "We have been using $y_n$ as your initial guess for the Newton iterations, however you may notice that for some (larger) times-steps that the Newton iterations don't converge (e.g., try your code for $\\Delta t = 0.5$). In this case you could use a forward Euler step as an initial guess, that is instead of  $\\texttt{ newton(y, g, dg)}$, you can use  $ \\texttt{ newton(y+dt*f(y), g, dg)}$. Why is this a better initial guess for the Newton iteration? "
   ]
  },
  {
   "cell_type": "markdown",
   "metadata": {},
   "source": [
    "< Write your answer here >"
   ]
  },
  {
   "cell_type": "markdown",
   "metadata": {
    "deletable": false,
    "editable": false,
    "run_control": {
     "frozen": true
    }
   },
   "source": [
    "## d) \n",
    "We now have two programs that solve the ODE $$\\dot{y} = (y-3)(y+1),$$\n",
    "one that uses the forward Euler method and one using the Backward Euler method. You may have noticed that the backward Euler method is harder to implement and may be wondering what is the point of using an implicit method if you have to solve a non-linear equation at each iteration.\n",
    "\n",
    "Your last task is to run both programmes with larger and larger time steps and tell us your observations. Out of the forward and backward Euler methods, which one is better at larger $\\Delta t$ ? (For example, $\\Delta t > 0.5$ is large enough)\n",
    "\n",
    "Hint: you may have to use a forward Euler step as the intitial guess for the Newton iterations as explained in the previous question. "
   ]
  },
  {
   "cell_type": "code",
   "execution_count": null,
   "metadata": {},
   "outputs": [],
   "source": [
    "# code here\n",
    "\n",
    "\n"
   ]
  }
 ],
 "metadata": {
  "kernelspec": {
   "display_name": "Python 3 (ipykernel)",
   "language": "python",
   "name": "python3"
  },
  "language_info": {
   "codemirror_mode": {
    "name": "ipython",
    "version": 3
   },
   "file_extension": ".py",
   "mimetype": "text/x-python",
   "name": "python",
   "nbconvert_exporter": "python",
   "pygments_lexer": "ipython3",
   "version": "3.9.7"
  }
 },
 "nbformat": 4,
 "nbformat_minor": 2
}
