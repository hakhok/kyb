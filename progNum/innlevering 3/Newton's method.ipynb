{
 "cells": [
  {
   "cell_type": "markdown",
   "metadata": {
    "deletable": false,
    "editable": false,
    "run_control": {
     "frozen": true
    }
   },
   "source": [
    "[Back to Assignment 3](_Oving3.ipynb)\n",
    "\n",
    "# Newton's method\n",
    "In this exercise you will use Newton's method for finding roots of the scalar function $f(x)$ to within a certain level of prescision (i.e., some small number $\\texttt{tol}$). Recall that with Newton's method, you make a guess for the root $x_0$, and then you draw a tangent line of $f(x)$ line at $x=x_0$. You then use the root of the tangent line as an $\\it{improved}$ guess of the root, which we will call $x_1$. We then draw another tangent line, now at the point $x_1$ and keep going $n$ times until your guess $x_{n}$ satifies some sort of stopping criteria. \n",
    "\n",
    "Newton's method reads $$x_{k+1}=x_{k}-\\frac{f(x_{k})}{f'(x_{k})},$$ which is the solution to the root of the tangent line of $f(x)$ at $x=x_k$. Note that this is best implemented using a while loop. \n",
    "\n",
    "**Stopping criteria**: Your stopping criteria should be something like $\\texttt{abs}(f(x_n))<\\texttt{tol}$ and/or $\\texttt{abs}(x_n-x_{n+1})<\\texttt{tol}$. In addition, it is sometimes wise to add another stopping criteria in case the algorithm $\\it does~not$ converge, for example \n",
    "\n",
    "    k=1\n",
    "    while <<stopping_criteria>> and k<100:\n",
    "        <<Newton iteration>>\n",
    "        k = k+1\n",
    "        \n",
    "this will stop the loop if it hasn't converged in 100 iterations.\n",
    "\n"
   ]
  },
  {
   "cell_type": "markdown",
   "metadata": {
    "deletable": false,
    "editable": false,
    "run_control": {
     "frozen": true
    }
   },
   "source": [
    "## a) "
   ]
  },
  {
   "cell_type": "markdown",
   "metadata": {
    "deletable": false,
    "editable": false,
    "run_control": {
     "frozen": true
    }
   },
   "source": [
    "Use Newton's method to calculate the roots of the test function $f(x)=\\cos(x)$, which has known roots at $x = \\frac{n \\pi}{2}$, for some integer $m$. \n",
    "\n",
    "Use a tolerance of $\\texttt{tol} = 10^{-10}$, and an initial guess of $x_0 = 0.5$.\n",
    "\n",
    "Your algorithm should converge to the root $x = \\frac{\\pi}{2}$. "
   ]
  },
  {
   "cell_type": "code",
   "execution_count": 1,
   "metadata": {},
   "outputs": [
    {
     "name": "stdout",
     "output_type": "stream",
     "text": [
      "k: 1. x: 2.330487721712452. f(x): -0.6886977242318096\n",
      "k: 2. x: 1.3806234748302169. f(x): 0.1890286335156749\n",
      "k: 3. x: 1.5731225635727124. f(x): -0.0023262346797921106\n",
      "k: 4. x: 1.570796322598839. f(x): 4.1960575626922446e-09\n",
      "k: 5. x: 1.5707963267948966. f(x): 6.123233995736766e-17\n",
      "k: 6. x: 1.5707963267948966. f(x): 6.123233995736766e-17\n",
      "k: 7. x: 1.5707963267948966. f(x): 6.123233995736766e-17\n",
      "k: 8. x: 1.5707963267948966. f(x): 6.123233995736766e-17\n",
      "k: 9. x: 1.5707963267948966. f(x): 6.123233995736766e-17\n",
      "k: 10. x: 1.5707963267948966. f(x): 6.123233995736766e-17\n",
      "k: 11. x: 1.5707963267948966. f(x): 6.123233995736766e-17\n",
      "k: 12. x: 1.5707963267948966. f(x): 6.123233995736766e-17\n",
      "k: 13. x: 1.5707963267948966. f(x): 6.123233995736766e-17\n",
      "k: 14. x: 1.5707963267948966. f(x): 6.123233995736766e-17\n",
      "k: 15. x: 1.5707963267948966. f(x): 6.123233995736766e-17\n",
      "k: 16. x: 1.5707963267948966. f(x): 6.123233995736766e-17\n",
      "k: 17. x: 1.5707963267948966. f(x): 6.123233995736766e-17\n",
      "k: 18. x: 1.5707963267948966. f(x): 6.123233995736766e-17\n",
      "k: 19. x: 1.5707963267948966. f(x): 6.123233995736766e-17\n",
      "k: 20. x: 1.5707963267948966. f(x): 6.123233995736766e-17\n",
      "k: 21. x: 1.5707963267948966. f(x): 6.123233995736766e-17\n",
      "k: 22. x: 1.5707963267948966. f(x): 6.123233995736766e-17\n",
      "k: 23. x: 1.5707963267948966. f(x): 6.123233995736766e-17\n",
      "k: 24. x: 1.5707963267948966. f(x): 6.123233995736766e-17\n",
      "k: 25. x: 1.5707963267948966. f(x): 6.123233995736766e-17\n",
      "k: 26. x: 1.5707963267948966. f(x): 6.123233995736766e-17\n",
      "k: 27. x: 1.5707963267948966. f(x): 6.123233995736766e-17\n",
      "k: 28. x: 1.5707963267948966. f(x): 6.123233995736766e-17\n",
      "k: 29. x: 1.5707963267948966. f(x): 6.123233995736766e-17\n",
      "k: 30. x: 1.5707963267948966. f(x): 6.123233995736766e-17\n",
      "k: 31. x: 1.5707963267948966. f(x): 6.123233995736766e-17\n",
      "k: 32. x: 1.5707963267948966. f(x): 6.123233995736766e-17\n",
      "k: 33. x: 1.5707963267948966. f(x): 6.123233995736766e-17\n",
      "k: 34. x: 1.5707963267948966. f(x): 6.123233995736766e-17\n",
      "k: 35. x: 1.5707963267948966. f(x): 6.123233995736766e-17\n",
      "k: 36. x: 1.5707963267948966. f(x): 6.123233995736766e-17\n",
      "k: 37. x: 1.5707963267948966. f(x): 6.123233995736766e-17\n",
      "k: 38. x: 1.5707963267948966. f(x): 6.123233995736766e-17\n",
      "k: 39. x: 1.5707963267948966. f(x): 6.123233995736766e-17\n",
      "k: 40. x: 1.5707963267948966. f(x): 6.123233995736766e-17\n",
      "k: 41. x: 1.5707963267948966. f(x): 6.123233995736766e-17\n",
      "k: 42. x: 1.5707963267948966. f(x): 6.123233995736766e-17\n",
      "k: 43. x: 1.5707963267948966. f(x): 6.123233995736766e-17\n",
      "k: 44. x: 1.5707963267948966. f(x): 6.123233995736766e-17\n",
      "k: 45. x: 1.5707963267948966. f(x): 6.123233995736766e-17\n",
      "k: 46. x: 1.5707963267948966. f(x): 6.123233995736766e-17\n",
      "k: 47. x: 1.5707963267948966. f(x): 6.123233995736766e-17\n",
      "k: 48. x: 1.5707963267948966. f(x): 6.123233995736766e-17\n",
      "k: 49. x: 1.5707963267948966. f(x): 6.123233995736766e-17\n",
      "k: 50. x: 1.5707963267948966. f(x): 6.123233995736766e-17\n",
      "k: 51. x: 1.5707963267948966. f(x): 6.123233995736766e-17\n",
      "k: 52. x: 1.5707963267948966. f(x): 6.123233995736766e-17\n",
      "k: 53. x: 1.5707963267948966. f(x): 6.123233995736766e-17\n",
      "k: 54. x: 1.5707963267948966. f(x): 6.123233995736766e-17\n",
      "k: 55. x: 1.5707963267948966. f(x): 6.123233995736766e-17\n",
      "k: 56. x: 1.5707963267948966. f(x): 6.123233995736766e-17\n",
      "k: 57. x: 1.5707963267948966. f(x): 6.123233995736766e-17\n",
      "k: 58. x: 1.5707963267948966. f(x): 6.123233995736766e-17\n",
      "k: 59. x: 1.5707963267948966. f(x): 6.123233995736766e-17\n",
      "k: 60. x: 1.5707963267948966. f(x): 6.123233995736766e-17\n",
      "k: 61. x: 1.5707963267948966. f(x): 6.123233995736766e-17\n",
      "k: 62. x: 1.5707963267948966. f(x): 6.123233995736766e-17\n",
      "k: 63. x: 1.5707963267948966. f(x): 6.123233995736766e-17\n",
      "k: 64. x: 1.5707963267948966. f(x): 6.123233995736766e-17\n",
      "k: 65. x: 1.5707963267948966. f(x): 6.123233995736766e-17\n",
      "k: 66. x: 1.5707963267948966. f(x): 6.123233995736766e-17\n",
      "k: 67. x: 1.5707963267948966. f(x): 6.123233995736766e-17\n",
      "k: 68. x: 1.5707963267948966. f(x): 6.123233995736766e-17\n",
      "k: 69. x: 1.5707963267948966. f(x): 6.123233995736766e-17\n",
      "k: 70. x: 1.5707963267948966. f(x): 6.123233995736766e-17\n",
      "k: 71. x: 1.5707963267948966. f(x): 6.123233995736766e-17\n",
      "k: 72. x: 1.5707963267948966. f(x): 6.123233995736766e-17\n",
      "k: 73. x: 1.5707963267948966. f(x): 6.123233995736766e-17\n",
      "k: 74. x: 1.5707963267948966. f(x): 6.123233995736766e-17\n",
      "k: 75. x: 1.5707963267948966. f(x): 6.123233995736766e-17\n",
      "k: 76. x: 1.5707963267948966. f(x): 6.123233995736766e-17\n",
      "k: 77. x: 1.5707963267948966. f(x): 6.123233995736766e-17\n",
      "k: 78. x: 1.5707963267948966. f(x): 6.123233995736766e-17\n",
      "k: 79. x: 1.5707963267948966. f(x): 6.123233995736766e-17\n",
      "k: 80. x: 1.5707963267948966. f(x): 6.123233995736766e-17\n",
      "k: 81. x: 1.5707963267948966. f(x): 6.123233995736766e-17\n",
      "k: 82. x: 1.5707963267948966. f(x): 6.123233995736766e-17\n",
      "k: 83. x: 1.5707963267948966. f(x): 6.123233995736766e-17\n",
      "k: 84. x: 1.5707963267948966. f(x): 6.123233995736766e-17\n",
      "k: 85. x: 1.5707963267948966. f(x): 6.123233995736766e-17\n",
      "k: 86. x: 1.5707963267948966. f(x): 6.123233995736766e-17\n",
      "k: 87. x: 1.5707963267948966. f(x): 6.123233995736766e-17\n",
      "k: 88. x: 1.5707963267948966. f(x): 6.123233995736766e-17\n",
      "k: 89. x: 1.5707963267948966. f(x): 6.123233995736766e-17\n",
      "k: 90. x: 1.5707963267948966. f(x): 6.123233995736766e-17\n",
      "k: 91. x: 1.5707963267948966. f(x): 6.123233995736766e-17\n",
      "k: 92. x: 1.5707963267948966. f(x): 6.123233995736766e-17\n",
      "k: 93. x: 1.5707963267948966. f(x): 6.123233995736766e-17\n",
      "k: 94. x: 1.5707963267948966. f(x): 6.123233995736766e-17\n",
      "k: 95. x: 1.5707963267948966. f(x): 6.123233995736766e-17\n",
      "k: 96. x: 1.5707963267948966. f(x): 6.123233995736766e-17\n",
      "k: 97. x: 1.5707963267948966. f(x): 6.123233995736766e-17\n",
      "k: 98. x: 1.5707963267948966. f(x): 6.123233995736766e-17\n",
      "k: 99. x: 1.5707963267948966. f(x): 6.123233995736766e-17\n"
     ]
    }
   ],
   "source": [
    "import numpy as np\n",
    "def f(x): return np.cos(x)\n",
    "def f_dx(x): return - np.sin(x)\n",
    "\n",
    "x = 0.5\n",
    "x_prev = 0\n",
    "tol = 10**(-18)\n",
    "\n",
    "k=1\n",
    "while k<100 and abs(f(x))>tol :#or abs(x-x_prev)>tol:\n",
    "    x_prev = x\n",
    "    x = x - f(x)/f_dx(x)\n",
    "    print(f\"k: {k}. x: {x}. f(x): {f(x)}\")\n",
    "    k += 1\n"
   ]
  },
  {
   "cell_type": "markdown",
   "metadata": {},
   "source": [
    "### i) ###\n",
    "For the stopping criteria $\\texttt{abs}(f(x_n))<\\texttt{tol}$, how many iterations does it take for Newton's method to converge to the root? \n",
    "\n"
   ]
  },
  {
   "cell_type": "markdown",
   "metadata": {},
   "source": [
    "**Answer:** 5"
   ]
  },
  {
   "cell_type": "markdown",
   "metadata": {
    "deletable": false,
    "editable": false,
    "run_control": {
     "frozen": true
    }
   },
   "source": [
    "### ii) ### \n",
    "What happens when you use the initial guess of $x_0 = 0$? Can you explain your observation? (Note: if you have written your code correctly, something $\\it should$ go wrong.)"
   ]
  },
  {
   "cell_type": "markdown",
   "metadata": {},
   "source": [
    "**Answer:** cos(0)/-sin(0) = 1/0 => not allowed"
   ]
  },
  {
   "cell_type": "markdown",
   "metadata": {
    "deletable": false,
    "editable": false,
    "run_control": {
     "frozen": true
    }
   },
   "source": [
    "### iii)"
   ]
  },
  {
   "cell_type": "markdown",
   "metadata": {
    "deletable": false,
    "editable": false,
    "run_control": {
     "frozen": true
    }
   },
   "source": [
    "What happens when you use a tolerance of $\\texttt{tol} = 10^{-18}$ and $x_0=0.5$? Does the algorithm converge? Can you explain your observation?"
   ]
  },
  {
   "cell_type": "markdown",
   "metadata": {},
   "source": [
    "**Answer:** Because of rounding error, the tolerance og 10^-18 cant be obtained"
   ]
  },
  {
   "cell_type": "markdown",
   "metadata": {},
   "source": [
    "## b)"
   ]
  },
  {
   "cell_type": "markdown",
   "metadata": {
    "deletable": false,
    "editable": false,
    "run_control": {
     "frozen": true
    }
   },
   "source": [
    "Now we will try and find a solution to the following function $$x{{\\rm e}^{- \\left( \\sin \\left( x/2 \\right)  \\right) ^{2}}}=3/2. $$ To do this we will look for a root of the function $$ f(x) = x{{\\rm e}^{- \\left( \\sin \\left( x/2 \\right)  \\right) ^{2}}}-3/2.$$\n",
    "which has the derivative $$f'(x) = {{\\rm e}^{- \\left( \\sin \\left( x/2 \\right)  \\right) ^{2}}}-x\\sin\n",
    " \\left( x/2 \\right) \\cos \\left( x/2 \\right) {{\\rm e}^{- \\left( \\sin\n",
    " \\left( x/2 \\right)  \\right) ^{2}}}.\n",
    "$$ The values of $f(x)$ and $f'(x)$ for $x = 2$ have been written in Python for you below so you don't make a mistake copying the formula into you code. "
   ]
  },
  {
   "cell_type": "code",
   "execution_count": null,
   "metadata": {
    "deletable": false,
    "editable": false,
    "run_control": {
     "frozen": true
    }
   },
   "outputs": [],
   "source": [
    "import math \n",
    "x = 2\n",
    "f = x*math.exp(-math.sin((1/2)*x)**2)-3/2\n",
    "dfdx = math.exp(-math.sin((1/2)*x)**2)-x*math.sin((1/2)*x)*math.cos((1/2)*x)*math.exp(-math.sin((1/2)*x)**2)\n",
    "print(\"The value of the derivative at x = 2 is f'(2) =\", dfdx)"
   ]
  },
  {
   "cell_type": "markdown",
   "metadata": {
    "deletable": false,
    "editable": false,
    "run_control": {
     "frozen": true
    }
   },
   "source": [
    "Notice that the value for the derivative at $x=2$ is very close to zero and is therefore not a good starting point. "
   ]
  },
  {
   "cell_type": "markdown",
   "metadata": {
    "deletable": false,
    "editable": false,
    "run_control": {
     "frozen": true
    }
   },
   "source": [
    "### i) ### \n",
    " There is a root in the interval $[0,10]$. What is the value of this root? Express your answer to 10 decimal places.  \n",
    "\n",
    "**Note:** As suggested above, the Newton method might not converge for certain initial values, therefore you need to test a few initial starting points until the algorithm converges. \n"
   ]
  },
  {
   "cell_type": "code",
   "execution_count": 13,
   "metadata": {},
   "outputs": [
    {
     "name": "stdout",
     "output_type": "stream",
     "text": [
      "k: 1. x: 4.159941678040259. f(x): 0.4408286694015813\n",
      "k: 2. x: 3.8189040617888237. f(x): 0.06883491194650149\n",
      "k: 3. x: 3.7426244239019972. f(x): 0.0029213575892719224\n",
      "k: 4. x: 3.739089875733591. f(x): 6.03506228569195e-06\n",
      "k: 5. x: 3.739082543636181. f(x): 2.592392966960233e-11\n",
      "k: 6. x: 3.7390825436046855. f(x): 0.0\n",
      "k: 7. x: 3.7390825436046855. f(x): 0.0\n",
      "\n",
      " x_n after 7 itterations: 3.7390825436\n"
     ]
    }
   ],
   "source": [
    "import math \n",
    "\n",
    "def f(x): return x*math.exp(-math.sin((1/2)*x)**2)-3/2\n",
    "def f_dx(x): return math.exp(-math.sin((1/2)*x)**2)-x*math.sin((1/2)*x)*math.cos((1/2)*x)*math.exp(-math.sin((1/2)*x)**2)\n",
    "\n",
    "x = 5\n",
    "x_prev = 0\n",
    "tol = 10**(-18)\n",
    "\n",
    "k=1\n",
    "while k<100 and abs(x-x_prev)>tol:\n",
    "    x_prev = x\n",
    "    x = x - f(x)/f_dx(x)\n",
    "    print(f\"k: {k}. x: {x}. f(x): {f(x)}\")\n",
    "    k += 1\n",
    "\n",
    "print(f\"\\n x_n after {k-1} itterations: {round(x, 10)}\")"
   ]
  },
  {
   "cell_type": "markdown",
   "metadata": {
    "deletable": false,
    "editable": false,
    "heading_collapsed": true,
    "run_control": {
     "frozen": true
    }
   },
   "source": [
    "#### **Hint:**"
   ]
  },
  {
   "cell_type": "markdown",
   "metadata": {
    "deletable": false,
    "editable": false,
    "hidden": true,
    "run_control": {
     "frozen": true
    }
   },
   "source": [
    "\n",
    "The below code can be used to print values to many decimal places. To get 10 decimal places of accuracy, you should keep iterating your code until the first 10 decimal places of ${x_n}$ don't change between iterations"
   ]
  },
  {
   "cell_type": "code",
   "execution_count": null,
   "metadata": {
    "deletable": false,
    "editable": false,
    "hidden": true,
    "run_control": {
     "frozen": true
    }
   },
   "outputs": [],
   "source": [
    "n = 1\n",
    "x = 1/7\n",
    "f = x*math.exp(-math.sin((1/2)*x)**2)-3/2\n",
    "\n",
    "print(\"n = %-2d: x_n = %.10f, f(x_n) = %.5e\" % (n,x,f)) \n",
    "# this prints the integer n, the float x to 10 decimal places\n",
    "# ... and the float f to 5 decimal places (in exponential format). This \n",
    "# ... is best placed inside your loop to see what is happening at each iteration \n"
   ]
  },
  {
   "cell_type": "markdown",
   "metadata": {
    "deletable": false,
    "editable": false,
    "run_control": {
     "frozen": true
    }
   },
   "source": [
    "### ii) (Optional bonus question for an extra reward*!) ###"
   ]
  },
  {
   "cell_type": "markdown",
   "metadata": {
    "deletable": false,
    "editable": false,
    "run_control": {
     "frozen": true
    }
   },
   "source": [
    "As you may have noticed, Newton's method sometimes doesn't converge unless we are close enough to the solution. One very common method to cirmumvent this issue is to do a few bisection method iterations first, and when you are \"close enough\" to the solution you can bring it home with Newton iterations. \n",
    "\n",
    "Implement a root finding algorithm that:\n",
    "\n",
    "   (1) uses the bisection method until you are within $|f(c)|<\\texttt{tol1}$, then\n",
    "    \n",
    "   (2) uses Newton's method until  $|f(x_n)|<\\texttt{tol2}$, \n",
    "    \n",
    "where you can choose the values of $\\texttt{tol1}$ and $\\texttt{tol2}$ as long as $\\texttt{tol1}>\\texttt{tol2}$."
   ]
  },
  {
   "cell_type": "markdown",
   "metadata": {
    "deletable": false,
    "editable": false,
    "run_control": {
     "frozen": true
    }
   },
   "source": [
    " \\* The reward is the satisfaction of completing the hardest part of the assignment (+ read the assignment approval description for assignment 3)"
   ]
  },
  {
   "cell_type": "code",
   "execution_count": null,
   "metadata": {},
   "outputs": [],
   "source": [
    "# write your for b-ii) here\n",
    "\n",
    "\n",
    "\n",
    "\n"
   ]
  }
 ],
 "metadata": {
  "kernelspec": {
   "display_name": "Python 3 (ipykernel)",
   "language": "python",
   "name": "python3"
  },
  "language_info": {
   "codemirror_mode": {
    "name": "ipython",
    "version": 3
   },
   "file_extension": ".py",
   "mimetype": "text/x-python",
   "name": "python",
   "nbconvert_exporter": "python",
   "pygments_lexer": "ipython3",
   "version": "3.9.7"
  }
 },
 "nbformat": 4,
 "nbformat_minor": 2
}
